{
  "nbformat": 4,
  "nbformat_minor": 0,
  "metadata": {
    "colab": {
      "provenance": [],
      "authorship_tag": "ABX9TyM5ezRv6KCS3WoHJAyI+7ev",
      "include_colab_link": true
    },
    "kernelspec": {
      "name": "python3",
      "display_name": "Python 3"
    },
    "language_info": {
      "name": "python"
    }
  },
  "cells": [
    {
      "cell_type": "markdown",
      "metadata": {
        "id": "view-in-github",
        "colab_type": "text"
      },
      "source": [
        "<a href=\"https://colab.research.google.com/github/TarunNagdeve/Cats-Vs-Dogs/blob/master/Untitled2.ipynb\" target=\"_parent\"><img src=\"https://colab.research.google.com/assets/colab-badge.svg\" alt=\"Open In Colab\"/></a>"
      ]
    },
    {
      "cell_type": "code",
      "source": [
        "from transformers import BertTokenizer, TFBertModel\n",
        "import tensorflow as tf\n",
        "\n",
        "# Load the pre-trained BERT model and tokenizer\n",
        "model_name = \"bert-base-uncased\"  # You can choose a different BERT model\n",
        "tokenizer = BertTokenizer.from_pretrained(model_name)\n",
        "model = TFBertModel.from_pretrained(model_name)\n",
        "\n",
        "# List of text items\n",
        "text_list = [\"Text 1\", \"Text 2\", \"Text 3\", ...]  # Replace with your text data\n",
        "\n",
        "# Initialize an empty list to store embeddings\n",
        "embeddings_list = []\n",
        "\n",
        "# Loop through each text item in the list\n",
        "for text in text_list:\n",
        "    # Tokenize and encode the text\n",
        "    input_tokens = tokenizer(text, padding=True, truncation=True, return_tensors=\"tf\")\n",
        "\n",
        "    # Get the BERT embeddings for the text\n",
        "    input_embeddings = model(input_tokens[\"input_ids\"])[0]\n",
        "\n",
        "    # Append the embeddings to the list\n",
        "    embeddings_list.append(input_embeddings)\n",
        "\n",
        "# Convert the embeddings list to a NumPy array\n",
        "embeddings_array = tf.concat(embeddings_list, axis=0).numpy()\n",
        "\n",
        "# Print the embeddings array\n",
        "print(embeddings_array)\n"
      ],
      "metadata": {
        "id": "rRSKalmqpBHH"
      },
      "execution_count": null,
      "outputs": []
    }
  ]
}