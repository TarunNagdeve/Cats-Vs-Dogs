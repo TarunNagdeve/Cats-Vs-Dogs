{
  "nbformat": 4,
  "nbformat_minor": 0,
  "metadata": {
    "colab": {
      "provenance": [],
      "authorship_tag": "ABX9TyPyJKvSoI8kl7q14VGFomRH",
      "include_colab_link": true
    },
    "kernelspec": {
      "name": "python3",
      "display_name": "Python 3"
    },
    "language_info": {
      "name": "python"
    }
  },
  "cells": [
    {
      "cell_type": "markdown",
      "metadata": {
        "id": "view-in-github",
        "colab_type": "text"
      },
      "source": [
        "<a href=\"https://colab.research.google.com/github/TarunNagdeve/Cats-Vs-Dogs/blob/master/Untitled2.ipynb\" target=\"_parent\"><img src=\"https://colab.research.google.com/assets/colab-badge.svg\" alt=\"Open In Colab\"/></a>"
      ]
    },
    {
      "cell_type": "markdown",
      "source": [
        "Before TF-IDF vectorization, you apply the following preprocessing steps to each text in your dataset and the input text:\n",
        "Convert all text to lowercase: Ensures consistent casing for all words.\n",
        "Remove all non-alphabetic characters: Eliminates symbols, punctuation, and special characters.\n",
        "Remove all digits: Eliminates numeric digits.\n",
        "Remove single characters: Removes single-letter words.\n",
        "Remove multiple spaces: Replaces multiple consecutive spaces with a single space.\n",
        "Remove stopwords: Eliminates common words (e.g., \"the,\" \"and,\" \"in\") that do not carry significant meaning.\n",
        "Apply stemming and lemmatization: Reduce words to their base or root forms, consolidating similar words.\n",
        "TF-IDF Vectorization: After applying these preprocessing steps, you perform TF-IDF vectorization as described earlier. This converts the preprocessed text data into numerical vectors, where each component of the vector represents the importance of a word in the text.\n",
        "Cosine Similarity: With the TF-IDF vectors of the preprocessed texts, you compute cosine similarity to find the most similar texts to the preprocessed input text."
      ],
      "metadata": {
        "id": "1E2-ao-fXmep"
      }
    }
  ]
}