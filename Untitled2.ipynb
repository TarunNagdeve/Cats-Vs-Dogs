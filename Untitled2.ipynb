{
  "nbformat": 4,
  "nbformat_minor": 0,
  "metadata": {
    "colab": {
      "provenance": [],
      "authorship_tag": "ABX9TyMKzvrpVrfZlkUEWu9iBJ84",
      "include_colab_link": true
    },
    "kernelspec": {
      "name": "python3",
      "display_name": "Python 3"
    },
    "language_info": {
      "name": "python"
    }
  },
  "cells": [
    {
      "cell_type": "markdown",
      "metadata": {
        "id": "view-in-github",
        "colab_type": "text"
      },
      "source": [
        "<a href=\"https://colab.research.google.com/github/TarunNagdeve/Cats-Vs-Dogs/blob/master/Untitled2.ipynb\" target=\"_parent\"><img src=\"https://colab.research.google.com/assets/colab-badge.svg\" alt=\"Open In Colab\"/></a>"
      ]
    },
    {
      "cell_type": "code",
      "execution_count": null,
      "metadata": {
        "id": "hgvISQZ2SZ7P"
      },
      "outputs": [],
      "source": [
        "In the context of text analysis, it is often used to measure the similarity between TF-IDF vectors. When you have a new input text for which you want to find similar texts in the dataset, you convert the input text into a TF-IDF vector. Then, you compute the cosine similarity between this vector and the TF-IDF vectors of all the texts in your dataset. The texts with the highest cosine similarity values are considered the most similar to the input text."
      ]
    }
  ]
}