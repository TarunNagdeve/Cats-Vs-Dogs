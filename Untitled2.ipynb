{
  "nbformat": 4,
  "nbformat_minor": 0,
  "metadata": {
    "colab": {
      "provenance": [],
      "authorship_tag": "ABX9TyNX62U66DbRUN3FlFN07abL",
      "include_colab_link": true
    },
    "kernelspec": {
      "name": "python3",
      "display_name": "Python 3"
    },
    "language_info": {
      "name": "python"
    }
  },
  "cells": [
    {
      "cell_type": "markdown",
      "metadata": {
        "id": "view-in-github",
        "colab_type": "text"
      },
      "source": [
        "<a href=\"https://colab.research.google.com/github/TarunNagdeve/Cats-Vs-Dogs/blob/master/Untitled2.ipynb\" target=\"_parent\"><img src=\"https://colab.research.google.com/assets/colab-badge.svg\" alt=\"Open In Colab\"/></a>"
      ]
    },
    {
      "cell_type": "code",
      "source": [
        "import tensorflow as tf\n",
        "from transformers import BertTokenizer, TFBertModel\n",
        "\n",
        "# Check if GPU is available\n",
        "if tf.test.gpu_device_name():\n",
        "    print(\"GPU is available\")\n",
        "    # Set the GPU as the default device\n",
        "    tf.config.experimental.set_memory_growth(tf.config.experimental.list_physical_devices('GPU')[0], True)\n",
        "else:\n",
        "    print(\"GPU is NOT available\")\n",
        "\n",
        "# Load pretrained BERT model and tokenizer\n",
        "model_name = \"bert-base-uncased\"\n",
        "tokenizer = BertTokenizer.from_pretrained(model_name)\n",
        "model = TFBertModel.from_pretrained(model_name)\n",
        "\n",
        "# Preprocess Text Data\n",
        "input_text = \"Your input text goes here.\"\n",
        "dataset_text = [\"Text 1\", \"Text 2\", \"Text 3\", ...]\n",
        "\n",
        "input_tokens = tokenizer(input_text, padding=True, truncation=True, return_tensors=\"tf\")\n",
        "dataset_tokens = tokenizer(dataset_text, padding=True, truncation=True, return_tensors=\"tf\", max_length=128)\n",
        "\n",
        "# Generate Embeddings\n",
        "input_embeddings = model(input_tokens[\"input_ids\"])[0]\n",
        "dataset_embeddings = model(dataset_tokens[\"input_ids\"])[0]\n",
        "\n",
        "# Calculate Cosine Similarity\n",
        "import tensorflow as tf\n",
        "\n",
        "similarity_scores = tf.keras.losses.cosine_similarity(input_embeddings, dataset_embeddings)\n",
        "similarity_scores = similarity_scores.numpy().flatten()\n",
        "\n",
        "# Find Closest Texts\n",
        "num_results = 5\n",
        "closest_indices = similarity_scores.argsort()[-num_results:][::-1]\n",
        "closest_texts = [dataset_text[i] for i in closest_indices]\n",
        "\n",
        "print(\"Closest texts:\")\n",
        "for text in closest_texts:\n",
        "    print(text)\n"
      ],
      "metadata": {
        "id": "_MQ9OO0kNGYi"
      },
      "execution_count": null,
      "outputs": []
    }
  ]
}