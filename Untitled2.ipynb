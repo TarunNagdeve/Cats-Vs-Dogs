{
  "nbformat": 4,
  "nbformat_minor": 0,
  "metadata": {
    "colab": {
      "provenance": [],
      "authorship_tag": "ABX9TyMlVImknRJXIJoOy7VGENgS",
      "include_colab_link": true
    },
    "kernelspec": {
      "name": "python3",
      "display_name": "Python 3"
    },
    "language_info": {
      "name": "python"
    }
  },
  "cells": [
    {
      "cell_type": "markdown",
      "metadata": {
        "id": "view-in-github",
        "colab_type": "text"
      },
      "source": [
        "<a href=\"https://colab.research.google.com/github/TarunNagdeve/Cats-Vs-Dogs/blob/master/Untitled2.ipynb\" target=\"_parent\"><img src=\"https://colab.research.google.com/assets/colab-badge.svg\" alt=\"Open In Colab\"/></a>"
      ]
    },
    {
      "cell_type": "code",
      "source": [
        "input_embeddings = model(input_tokens[\"input_ids\"])[0]  # [CLS] embedding for input text\n",
        "dataset_embeddings = model(dataset_tokens[\"input_ids\"])[0]  # [CLS] embeddings for dataset text\n",
        "import tensorflow as tf\n",
        "\n",
        "# Compute cosine similarity\n",
        "similarity_scores = tf.keras.losses.cosine_similarity(input_embeddings, dataset_embeddings)\n",
        "similarity_scores = similarity_scores.numpy().flatten()  # Convert to numpy array\n",
        "num_results = 5  # Number of closest texts to retrieve\n",
        "closest_indices = similarity_scores.argsort()[-num_results:][::-1]\n",
        "closest_texts = [dataset_text[i] for i in closest_indices]\n"
      ],
      "metadata": {
        "id": "pIMPOvNYJnhU"
      },
      "execution_count": null,
      "outputs": []
    }
  ]
}