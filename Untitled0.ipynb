{
  "nbformat": 4,
  "nbformat_minor": 0,
  "metadata": {
    "colab": {
      "provenance": [],
      "authorship_tag": "ABX9TyPmt9PL3rWwAMreEttQnrFs",
      "include_colab_link": true
    },
    "kernelspec": {
      "name": "python3",
      "display_name": "Python 3"
    },
    "language_info": {
      "name": "python"
    }
  },
  "cells": [
    {
      "cell_type": "markdown",
      "metadata": {
        "id": "view-in-github",
        "colab_type": "text"
      },
      "source": [
        "<a href=\"https://colab.research.google.com/github/TarunNagdeve/Cats-Vs-Dogs/blob/master/Untitled0.ipynb\" target=\"_parent\"><img src=\"https://colab.research.google.com/assets/colab-badge.svg\" alt=\"Open In Colab\"/></a>"
      ]
    },
    {
      "cell_type": "code",
      "execution_count": null,
      "metadata": {
        "id": "67VR4CBKj2eo"
      },
      "outputs": [],
      "source": [
        "import milvus\n",
        "import pandas as pd\n",
        "\n",
        "# Connect to the Milvus server\n",
        "milvus_client = milvus.Milvus(host='localhost', port='19530')\n",
        "\n",
        "# Define the collection name\n",
        "collection_name = 'my_collection'\n",
        "\n",
        "# Load your DataFrame (assuming you have already prepared it)\n",
        "data = pd.DataFrame({\n",
        "    'numbering': [1, 2, 3],\n",
        "    'text': ['apple', 'banana', 'orange'],\n",
        "    'embeddings': [\n",
        "        [0.1, 0.2, 0.3],\n",
        "        [0.4, 0.5, 0.6],\n",
        "        [0.7, 0.8, 0.9]\n",
        "    ]\n",
        "})\n",
        "\n",
        "# Convert DataFrame to Milvus-compatible format\n",
        "vector_data = data['embeddings'].tolist()\n",
        "\n",
        "# Create the collection\n",
        "milvus_client.create_collection({\n",
        "    'collection_name': collection_name,\n",
        "    'dimension': len(vector_data[0]),  # Assuming embeddings have the same dimension\n",
        "    'index_file_size': 1024,\n",
        "    'metric_type': milvus.MetricType.L2  # Choose appropriate metric type\n",
        "})\n",
        "\n",
        "# Insert data into the collection\n",
        "entities = [{'embedding': vec} for vec in vector_data]\n",
        "ids = milvus_client.insert(collection_name=collection_name, records=entities)\n",
        "\n",
        "# Associate metadata with IDs (assuming you have a unique identifier for each data point)\n",
        "metadata = [{'numbering': num, 'text': txt} for num, txt in zip(data['numbering'], data['text'])]\n",
        "milvus_client.upsert(collection_name=collection_name, records=metadata, ids=ids)\n",
        "\n",
        "# Close the Milvus connection\n",
        "milvus_client.close()\n"
      ]
    },
    {
      "cell_type": "code",
      "source": [
        "# Your list of texts\n",
        "text_list = [\n",
        "    \"This is a sentence. This is additional text.\",\n",
        "    \"Specifically, this is another sentence. More text here.\",\n",
        "    \"Here is one more sentence. And some more text.\"\n",
        "]\n",
        "\n",
        "# List to store the extracted text\n",
        "extracted_text = []\n",
        "\n",
        "# Extract text after the first full stop in each text\n",
        "for text in text_list:\n",
        "    # Find the index of the first full stop\n",
        "    first_full_stop_index = text.find('.')\n",
        "\n",
        "    if first_full_stop_index != -1:\n",
        "        # Extract text after the first full stop\n",
        "        text_after_full_stop = text[first_full_stop_index + 1:].strip()\n",
        "        extracted_text.append(text_after_full_stop)\n",
        "    else:\n",
        "        # If no full stop is found, add an empty string\n",
        "        extracted_text.append(\"\")\n",
        "\n",
        "# Print the extracted text\n",
        "for i, text in enumerate(extracted_text):\n",
        "    print(f\"Text {i + 1} (Text after first full stop): '{text}'\")\n"
      ],
      "metadata": {
        "id": "orwHjfds55as"
      },
      "execution_count": null,
      "outputs": []
    },
    {
      "cell_type": "code",
      "source": [
        "import streamlit as st\n",
        "import requests\n",
        "import numpy as np\n",
        "\n",
        "st.title(\"Text Embeddings with Django API\")\n",
        "\n",
        "# Input text from user\n",
        "input_text = st.text_area(\"Enter text for embeddings\")\n",
        "\n",
        "# Calculate embeddings button\n",
        "if st.button(\"Calculate Embeddings\"):\n",
        "    if input_text:\n",
        "        # Make a POST request to your Django API\n",
        "        url = \"http://127.0.0.1:8000/api/embeddings/\"\n",
        "        data = {\"input_text\": input_text}\n",
        "        response = requests.post(url, json=data)\n",
        "\n",
        "        if response.status_code == 200:\n",
        "            embeddings = np.array(response.json())\n",
        "            st.success(\"Embeddings calculated:\")\n",
        "            st.write(embeddings)\n",
        "        else:\n",
        "            st.error(\"An error occurred. Please try again.\")\n"
      ],
      "metadata": {
        "id": "6chk2JSYW3bv"
      },
      "execution_count": null,
      "outputs": []
    },
    {
      "cell_type": "code",
      "source": [
        "from rest_framework.decorators import api_view\n",
        "from rest_framework.response import Response\n",
        "from rest_framework import status\n",
        "from sklearn.feature_extraction.text import TfidfVectorizer\n",
        "import numpy as np\n",
        "\n",
        "@api_view(['POST'])\n",
        "def generate_embeddings_api(request):\n",
        "    if request.method == 'POST':\n",
        "        input_text = request.data.get('input_text', '')\n",
        "\n",
        "        tfidf_vectorizer = TfidfVectorizer()\n",
        "        embeddings = tfidf_vectorizer.fit_transform([input_text])\n",
        "\n",
        "        # Convert sparse matrix to dense array\n",
        "        dense_embeddings = np.array(embeddings.todense())\n",
        "\n",
        "        return Response(dense_embeddings.tolist(), status=status.HTTP_200_OK)\n"
      ],
      "metadata": {
        "id": "YM5QFO6hWMMN"
      },
      "execution_count": null,
      "outputs": []
    },
    {
      "cell_type": "code",
      "source": [],
      "metadata": {
        "id": "sqPxwzL3WMWE"
      },
      "execution_count": null,
      "outputs": []
    },
    {
      "cell_type": "code",
      "source": [
        "import streamlit as st\n",
        "import requests\n",
        "\n",
        "st.title(\"Sentiment Analysis with Django API\")\n",
        "\n",
        "# Input text from user\n",
        "input_text = st.text_area(\"Enter text for sentiment analysis\")\n",
        "\n",
        "# Analyze button\n",
        "if st.button(\"Analyze\"):\n",
        "    if input_text:\n",
        "        # Make a POST request to your Django API\n",
        "        url = \"http://127.0.0.1:8000/analyze/\"\n",
        "        data = {\"input_text\": input_text}\n",
        "        response = requests.post(url, json=data)\n",
        "\n",
        "        if response.status_code == 201:\n",
        "            result = response.json()\n",
        "            st.success(f\"Sentiment: {result['sentiment_output']}\")\n",
        "        else:\n",
        "            st.error(\"An error occurred. Please try again.\")\n"
      ],
      "metadata": {
        "id": "MRVAk2UcI2e-"
      },
      "execution_count": null,
      "outputs": []
    },
    {
      "cell_type": "code",
      "source": [
        "from rest_framework.decorators import api_view\n",
        "from rest_framework.response import Response\n",
        "from rest_framework import status\n",
        "from .models import SentimentAnalysisResult\n",
        "from .serializers import SentimentAnalysisResultSerializer\n",
        "from transformers import pipeline\n",
        "\n",
        "@api_view(['POST'])\n",
        "def sentiment_analysis_api(request):\n",
        "    if request.method == 'POST':\n",
        "        input_text = request.data.get('input_text', '')\n",
        "\n",
        "        sentiment_analyzer = pipeline(\"sentiment-analysis\")\n",
        "        sentiment_output = sentiment_analyzer(input_text)[0]['label']\n",
        "\n",
        "        sentiment_result = SentimentAnalysisResult(input_text=input_text, sentiment_output=sentiment_output)\n",
        "        sentiment_result.save()\n",
        "\n",
        "        serializer = SentimentAnalysisResultSerializer(sentiment_result)\n",
        "        return Response(serializer.data, status=status.HTTP_201_CREATED)\n"
      ],
      "metadata": {
        "id": "aIwM78zuHGIK"
      },
      "execution_count": null,
      "outputs": []
    }
  ]
}