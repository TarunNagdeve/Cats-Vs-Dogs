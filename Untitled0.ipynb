{
  "nbformat": 4,
  "nbformat_minor": 0,
  "metadata": {
    "colab": {
      "provenance": [],
      "authorship_tag": "ABX9TyNxvmh7yvJaU8jq51OsQZCW",
      "include_colab_link": true
    },
    "kernelspec": {
      "name": "python3",
      "display_name": "Python 3"
    },
    "language_info": {
      "name": "python"
    }
  },
  "cells": [
    {
      "cell_type": "markdown",
      "metadata": {
        "id": "view-in-github",
        "colab_type": "text"
      },
      "source": [
        "<a href=\"https://colab.research.google.com/github/TarunNagdeve/Cats-Vs-Dogs/blob/master/Untitled0.ipynb\" target=\"_parent\"><img src=\"https://colab.research.google.com/assets/colab-badge.svg\" alt=\"Open In Colab\"/></a>"
      ]
    },
    {
      "cell_type": "code",
      "execution_count": null,
      "metadata": {
        "id": "67VR4CBKj2eo"
      },
      "outputs": [],
      "source": [
        "import milvus\n",
        "import pandas as pd\n",
        "\n",
        "# Connect to the Milvus server\n",
        "milvus_client = milvus.Milvus(host='localhost', port='19530')\n",
        "\n",
        "# Define the collection name\n",
        "collection_name = 'my_collection'\n",
        "\n",
        "# Load your DataFrame (assuming you have already prepared it)\n",
        "data = pd.DataFrame({\n",
        "    'numbering': [1, 2, 3],\n",
        "    'text': ['apple', 'banana', 'orange'],\n",
        "    'embeddings': [\n",
        "        [0.1, 0.2, 0.3],\n",
        "        [0.4, 0.5, 0.6],\n",
        "        [0.7, 0.8, 0.9]\n",
        "    ]\n",
        "})\n",
        "\n",
        "# Convert DataFrame to Milvus-compatible format\n",
        "vector_data = data['embeddings'].tolist()\n",
        "\n",
        "# Create the collection\n",
        "milvus_client.create_collection({\n",
        "    'collection_name': collection_name,\n",
        "    'dimension': len(vector_data[0]),  # Assuming embeddings have the same dimension\n",
        "    'index_file_size': 1024,\n",
        "    'metric_type': milvus.MetricType.L2  # Choose appropriate metric type\n",
        "})\n",
        "\n",
        "# Insert data into the collection\n",
        "entities = [{'embedding': vec} for vec in vector_data]\n",
        "ids = milvus_client.insert(collection_name=collection_name, records=entities)\n",
        "\n",
        "# Associate metadata with IDs (assuming you have a unique identifier for each data point)\n",
        "metadata = [{'numbering': num, 'text': txt} for num, txt in zip(data['numbering'], data['text'])]\n",
        "milvus_client.upsert(collection_name=collection_name, records=metadata, ids=ids)\n",
        "\n",
        "# Close the Milvus connection\n",
        "milvus_client.close()\n"
      ]
    },
    {
      "cell_type": "code",
      "source": [
        "from rest_framework.decorators import api_view\n",
        "from rest_framework.response import Response\n",
        "from rest_framework import status\n",
        "from .models import SentimentAnalysisResult\n",
        "from .serializers import SentimentAnalysisResultSerializer\n",
        "from transformers import pipeline\n",
        "\n",
        "@api_view(['POST'])\n",
        "def sentiment_analysis_api(request):\n",
        "    if request.method == 'POST':\n",
        "        input_text = request.data.get('input_text', '')\n",
        "\n",
        "        sentiment_analyzer = pipeline(\"sentiment-analysis\")\n",
        "        sentiment_output = sentiment_analyzer(input_text)[0]['label']\n",
        "\n",
        "        sentiment_result = SentimentAnalysisResult(input_text=input_text, sentiment_output=sentiment_output)\n",
        "        sentiment_result.save()\n",
        "\n",
        "        serializer = SentimentAnalysisResultSerializer(sentiment_result)\n",
        "        return Response(serializer.data, status=status.HTTP_201_CREATED)\n"
      ],
      "metadata": {
        "id": "aIwM78zuHGIK"
      },
      "execution_count": null,
      "outputs": []
    }
  ]
}