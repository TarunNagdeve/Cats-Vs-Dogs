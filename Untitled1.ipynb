{
  "cells": [
    {
      "cell_type": "markdown",
      "metadata": {
        "id": "view-in-github",
        "colab_type": "text"
      },
      "source": [
        "<a href=\"https://colab.research.google.com/github/TarunNagdeve/Cats-Vs-Dogs/blob/master/Untitled1.ipynb\" target=\"_parent\"><img src=\"https://colab.research.google.com/assets/colab-badge.svg\" alt=\"Open In Colab\"/></a>"
      ]
    },
    {
      "cell_type": "code",
      "execution_count": null,
      "metadata": {
        "colab": {
          "base_uri": "https://localhost:8080/"
        },
        "id": "jVOtyjwQmiYv",
        "outputId": "00c28381-3b0f-4e12-f402-94b3eaabd832"
      },
      "outputs": [
        {
          "name": "stdout",
          "output_type": "stream",
          "text": [
            "Collecting django\n",
            "  Downloading Django-4.2.4-py3-none-any.whl (8.0 MB)\n",
            "\u001b[2K     \u001b[90m━━━━━━━━━━━━━━━━━━━━━━━━━━━━━━━━━━━━━━━━\u001b[0m \u001b[32m8.0/8.0 MB\u001b[0m \u001b[31m47.6 MB/s\u001b[0m eta \u001b[36m0:00:00\u001b[0m\n",
            "\u001b[?25hCollecting asgiref<4,>=3.6.0 (from django)\n",
            "  Downloading asgiref-3.7.2-py3-none-any.whl (24 kB)\n",
            "Requirement already satisfied: sqlparse>=0.3.1 in /usr/local/lib/python3.10/dist-packages (from django) (0.4.4)\n",
            "Requirement already satisfied: typing-extensions>=4 in /usr/local/lib/python3.10/dist-packages (from asgiref<4,>=3.6.0->django) (4.7.1)\n",
            "Installing collected packages: asgiref, django\n",
            "Successfully installed asgiref-3.7.2 django-4.2.4\n"
          ]
        }
      ],
      "source": [
        "!pip install django"
      ]
    },
    {
      "cell_type": "code",
      "source": [
        "import re\n",
        "\n",
        "# Example text\n",
        "example_text = \"\"\"\n",
        "Some text here.\n",
        "6.0 PROCEDURE\n",
        "This is the procedure section.\n",
        "It can have multiple lines.\n",
        "7.0 LIST\n",
        "This is the list section.\n",
        "End of the text.\n",
        "\"\"\"\n",
        "\n",
        "# Define the regex pattern\n",
        "pattern = re.compile(r'6\\.0 PROCEDURE(.*?)7\\.0 LIST', re.DOTALL | re.IGNORECASE)\n",
        "\n",
        "# Find the matched text\n",
        "match = re.search(pattern, example_text)\n",
        "\n",
        "# Extract the matched content\n",
        "if match:\n",
        "    extracted_text = match.group(1).strip()\n",
        "    print(extracted_text)\n"
      ],
      "metadata": {
        "id": "IxxMKxhNf9ls"
      },
      "execution_count": null,
      "outputs": []
    },
    {
      "cell_type": "code",
      "source": [
        "import milvus\n",
        "from sklearn.feature_extraction.text import TfidfVectorizer\n",
        "\n",
        "# Connect to the Milvus server\n",
        "milvus_client = milvus.Milvus(host='localhost', port='19530')\n",
        "\n",
        "# Create a Milvus collection for each document\n",
        "document_collection_names = ['document_1', 'document_2', 'document_3']  # Adjust as needed\n",
        "\n",
        "# Iterate over each document\n",
        "for doc_index, collection_name in enumerate(document_collection_names):\n",
        "    # Load section indexes and text entries for the current document (adjust as needed)\n",
        "    section_indexes = [1, 2, 3, ...]  # Load your section indexes\n",
        "    text_entries = [\"text entry 1\", \"text entry 2\", \"text entry 3\", ...]  # Load your text entries\n",
        "\n",
        "    # Convert text to embeddings using TF-IDF\n",
        "    vectorizer = TfidfVectorizer()\n",
        "    X = vectorizer.fit_transform(text_entries)\n",
        "    embeddings = X.toarray()\n",
        "\n",
        "    # Create a collection for the current document\n",
        "    milvus_client.create_collection({\n",
        "        'collection_name': collection_name,\n",
        "        'dimension': len(embeddings[0]) + 2,  # Embeddings + 2 for text and section indexes\n",
        "        'index_file_size': 1024,\n",
        "        'metric_type': milvus.MetricType.IP  # Choose appropriate metric type\n",
        "    })\n",
        "\n",
        "    # Create a list of dictionaries containing embeddings, text, and section indexes\n",
        "    entities = [{'embedding': emb.tolist(), 'text': text, 'section_index': section}\n",
        "                for emb, text, section in zip(embeddings, text_entries, section_indexes)]\n",
        "\n",
        "    # Insert embeddings, text, and section indexes into the collection\n",
        "    ids = milvus_client.insert(collection_name=collection_name, records=entities)\n",
        "\n",
        "# Close the Milvus connection\n",
        "milvus_client.close()\n"
      ],
      "metadata": {
        "id": "JmlqfPwYhnsd"
      },
      "execution_count": null,
      "outputs": []
    },
    {
      "cell_type": "code",
      "execution_count": null,
      "metadata": {
        "id": "PWsBTOjrmuB_"
      },
      "outputs": [],
      "source": [
        "!django-admin startproject MyAPI\n"
      ]
    },
    {
      "cell_type": "code",
      "execution_count": null,
      "metadata": {
        "id": "9St51hQonM6e"
      },
      "outputs": [],
      "source": [
        "! cd MyAPI/"
      ]
    },
    {
      "cell_type": "code",
      "execution_count": null,
      "metadata": {
        "colab": {
          "base_uri": "https://localhost:8080/",
          "height": 34
        },
        "id": "DIEfYfqBpv9w",
        "outputId": "7c9cf0db-1b34-4645-dc47-af9f0aed90f3"
      },
      "outputs": [
        {
          "name": "stdout",
          "output_type": "stream",
          "text": [
            "https://ui1ofxe6uh-496ff2e9c6d22116-8000-colab.googleusercontent.com/\n"
          ]
        }
      ],
      "source": [
        "from google.colab.output import eval_js\n",
        "print(eval_js(\"google.colab.kernel.proxyPort(8000)\"))"
      ]
    },
    {
      "cell_type": "code",
      "execution_count": null,
      "metadata": {
        "id": "7yOcRUzenZwW"
      },
      "outputs": [],
      "source": [
        "ALLOWED_HOSTS = ['colab.research.google.com']"
      ]
    },
    {
      "cell_type": "code",
      "execution_count": null,
      "metadata": {
        "colab": {
          "background_save": true,
          "base_uri": "https://localhost:8080/"
        },
        "id": "sGTmnjpFp574",
        "outputId": "2f447168-5ed6-4b50-a76f-d9134040bbab"
      },
      "outputs": [
        {
          "name": "stdout",
          "output_type": "stream",
          "text": [
            "Watching for file changes with StatReloader\n",
            "Performing system checks...\n",
            "\n",
            "System check identified no issues (0 silenced).\n",
            "\u001b[31m\n",
            "You have 18 unapplied migration(s). Your project may not work properly until you apply the migrations for app(s): admin, auth, contenttypes, sessions.\u001b[0m\n",
            "\u001b[31mRun 'python manage.py migrate' to apply them.\u001b[0m\n",
            "August 26, 2023 - 07:04:07\n",
            "Django version 4.2.4, using settings 'MyAPI.settings'\n",
            "Starting development server at http://127.0.0.1:8000/\n",
            "Quit the server with CONTROL-C.\n",
            "\n"
          ]
        }
      ],
      "source": [
        "!python /content/MyAPI/manage.py runserver 8000"
      ]
    },
    {
      "cell_type": "code",
      "execution_count": null,
      "metadata": {
        "id": "_4GIf0TEp9y3"
      },
      "outputs": [],
      "source": []
    }
  ],
  "metadata": {
    "colab": {
      "provenance": [],
      "authorship_tag": "ABX9TyMkEptqg0KgBA26ktcCBwiY",
      "include_colab_link": true
    },
    "kernelspec": {
      "display_name": "Python 3",
      "name": "python3"
    },
    "language_info": {
      "name": "python"
    }
  },
  "nbformat": 4,
  "nbformat_minor": 0
}