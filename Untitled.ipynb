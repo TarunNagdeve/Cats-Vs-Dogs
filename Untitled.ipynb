{
  "nbformat": 4,
  "nbformat_minor": 0,
  "metadata": {
    "colab": {
      "provenance": [],
      "authorship_tag": "ABX9TyPJWp3/F4YaJ6fi29RpZVC2",
      "include_colab_link": true
    },
    "kernelspec": {
      "name": "python3",
      "display_name": "Python 3"
    },
    "language_info": {
      "name": "python"
    }
  },
  "cells": [
    {
      "cell_type": "markdown",
      "metadata": {
        "id": "view-in-github",
        "colab_type": "text"
      },
      "source": [
        "<a href=\"https://colab.research.google.com/github/TarunNagdeve/Cats-Vs-Dogs/blob/master/Untitled.ipynb\" target=\"_parent\"><img src=\"https://colab.research.google.com/assets/colab-badge.svg\" alt=\"Open In Colab\"/></a>"
      ]
    },
    {
      "cell_type": "code",
      "execution_count": null,
      "metadata": {
        "id": "gcUYj42Dkrwl"
      },
      "outputs": [],
      "source": [
        "import os\n",
        "import subprocess\n",
        "\n",
        "# Path to the .doc or .docx file\n",
        "document_file = \"path/to/your/file.docx\"  # Replace with the actual path to your file\n",
        "\n",
        "# Output directory for the PDF file\n",
        "output_directory = \"path/to/output/directory\"  # Replace with the desired output directory\n",
        "\n",
        "# Ensure the output directory exists\n",
        "os.makedirs(output_directory, exist_ok=True)\n",
        "\n",
        "# Convert the document to PDF using unoconv\n",
        "conversion_command = f\"unoconv -f pdf -o {output_directory} {document_file}\"\n",
        "subprocess.run(conversion_command, shell=True)\n",
        "\n",
        "print(f\"Conversion complete. PDF file saved to {output_directory}\")\n"
      ]
    }
  ]
}