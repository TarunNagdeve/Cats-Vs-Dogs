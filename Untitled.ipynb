{
  "nbformat": 4,
  "nbformat_minor": 0,
  "metadata": {
    "colab": {
      "provenance": [],
      "authorship_tag": "ABX9TyNmJeeQFAbHE8PHpuwPLdR+",
      "include_colab_link": true
    },
    "kernelspec": {
      "name": "python3",
      "display_name": "Python 3"
    },
    "language_info": {
      "name": "python"
    }
  },
  "cells": [
    {
      "cell_type": "markdown",
      "metadata": {
        "id": "view-in-github",
        "colab_type": "text"
      },
      "source": [
        "<a href=\"https://colab.research.google.com/github/TarunNagdeve/Cats-Vs-Dogs/blob/master/Untitled.ipynb\" target=\"_parent\"><img src=\"https://colab.research.google.com/assets/colab-badge.svg\" alt=\"Open In Colab\"/></a>"
      ]
    },
    {
      "cell_type": "code",
      "source": [
        "import pandas as pd\n",
        "\n",
        "# Sample DataFrame\n",
        "data = {'Index': ['6.1', '6.1.1', '6.1.2', '6.1.3', '6.2'],\n",
        "        'Text': ['Text for 6.1', 'Text for 6.1.1', 'Text for 6.1.2', 'Text for 6.1.3', 'Text for 6.2']}\n",
        "\n",
        "df = pd.DataFrame(data)\n",
        "\n",
        "# Function to merge texts based on a common index prefix\n",
        "def merge_texts(df):\n",
        "    result = df.copy()\n",
        "    for index in df['Index']:\n",
        "        if index.count('.') > 1:  # Check if the index has more than one decimal point\n",
        "            common_prefix = '.'.join(index.split('.')[:-1])  # Get the common prefix (e.g., '6.1')\n",
        "            texts_to_merge = df[df['Index'].str.startswith(common_prefix)]['Text'].tolist()\n",
        "            merged_text = ' '.join(texts_to_merge)\n",
        "            result.loc[result['Index'] == common_prefix, 'Text'] = merged_text\n",
        "\n",
        "    return result.drop_duplicates(subset='Index')\n",
        "\n",
        "merged_df = merge_texts(df)\n",
        "print(merged_df)\n"
      ],
      "metadata": {
        "id": "kRyOuPHyWOAY"
      },
      "execution_count": null,
      "outputs": []
    },
    {
      "cell_type": "code",
      "source": [
        "import pandas as pd\n",
        "\n",
        "# Sample DataFrame\n",
        "data = {'Index': ['6.1', '6.1.1', '6.1.2', '6.1.3', '6.2'],\n",
        "        'Text': ['Text for 6.1', 'Text for 6.1.1', 'Text for 6.1.2', 'Text for 6.1.3', 'Text for 6.2']}\n",
        "\n",
        "df = pd.DataFrame(data)\n",
        "\n",
        "# Function to merge texts based on a common index prefix\n",
        "def merge_texts(df):\n",
        "    result = df.copy()\n",
        "    indexes_to_merge = set()\n",
        "\n",
        "    for index in df['Index']:\n",
        "        if index.count('.') > 1:  # Check if the index has more than one decimal point\n",
        "            common_prefix = '.'.join(index.split('.')[:-1])  # Get the common prefix (e.g., '6.1')\n",
        "            indexes_to_merge.add(common_prefix)\n",
        "\n",
        "    for common_prefix in indexes_to_merge:\n",
        "        texts_to_merge = df[df['Index'].str.startswith(common_prefix)]['Text'].tolist()\n",
        "        merged_text = ' '.join(texts_to_merge)\n",
        "        result = result[result['Index'] != common_prefix]\n",
        "        result = result.append({'Index': common_prefix, 'Text': merged_text}, ignore_index=True)\n",
        "\n",
        "    return result\n",
        "\n",
        "merged_df = merge_texts(df)\n",
        "print(merged_df)\n"
      ],
      "metadata": {
        "id": "SgGG8jWaYVSc"
      },
      "execution_count": null,
      "outputs": []
    },
    {
      "cell_type": "code",
      "source": [
        "import pandas as pd\n",
        "\n",
        "# Sample DataFrame\n",
        "data = {'Index': ['6.1', '6.1.1', '6.1.2', '6.1.3', '6.2'],\n",
        "        'Text': ['Text for 6.1', 'Text for 6.1.1', 'Text for 6.1.2', 'Text for 6.1.3', 'Text for 6.2']}\n",
        "\n",
        "df = pd.DataFrame(data)\n",
        "\n",
        "def merge_texts(group):\n",
        "    # Join the texts within the group with a space separator\n",
        "    return ' '.join(group)\n",
        "\n",
        "# Group by the common prefix of the 'Index' column and apply the merge_texts function\n",
        "merged_df = df.groupby(df['Index'].str.extract(r'^(\\d+\\.\\d+)')[0])['Text'].apply(merge_texts).reset_index()\n",
        "\n",
        "print(merged_df)\n"
      ],
      "metadata": {
        "id": "bca48rlTY_CX"
      },
      "execution_count": null,
      "outputs": []
    }
  ]
}