{
  "nbformat": 4,
  "nbformat_minor": 0,
  "metadata": {
    "colab": {
      "provenance": [],
      "authorship_tag": "ABX9TyP/ENMyEsxbmVo6GwkVuB7l",
      "include_colab_link": true
    },
    "kernelspec": {
      "name": "python3",
      "display_name": "Python 3"
    },
    "language_info": {
      "name": "python"
    }
  },
  "cells": [
    {
      "cell_type": "markdown",
      "metadata": {
        "id": "view-in-github",
        "colab_type": "text"
      },
      "source": [
        "<a href=\"https://colab.research.google.com/github/TarunNagdeve/Cats-Vs-Dogs/blob/master/Untitled.ipynb\" target=\"_parent\"><img src=\"https://colab.research.google.com/assets/colab-badge.svg\" alt=\"Open In Colab\"/></a>"
      ]
    },
    {
      "cell_type": "code",
      "source": [
        "import pandas as pd\n",
        "\n",
        "# Sample DataFrame\n",
        "data = {'Index': ['6.1', '6.1.1', '6.1.2', '6.1.3', '6.2'],\n",
        "        'Text': ['Text for 6.1', 'Text for 6.1.1', 'Text for 6.1.2', 'Text for 6.1.3', 'Text for 6.2']}\n",
        "\n",
        "df = pd.DataFrame(data)\n",
        "\n",
        "# Function to merge texts based on a common index prefix\n",
        "def merge_texts(df):\n",
        "    result = df.copy()\n",
        "    for index in df['Index']:\n",
        "        if index.count('.') > 1:  # Check if the index has more than one decimal point\n",
        "            common_prefix = '.'.join(index.split('.')[:-1])  # Get the common prefix (e.g., '6.1')\n",
        "            texts_to_merge = df[df['Index'].str.startswith(common_prefix)]['Text'].tolist()\n",
        "            merged_text = ' '.join(texts_to_merge)\n",
        "            result.loc[result['Index'] == common_prefix, 'Text'] = merged_text\n",
        "\n",
        "    return result.drop_duplicates(subset='Index')\n",
        "\n",
        "merged_df = merge_texts(df)\n",
        "print(merged_df)\n"
      ],
      "metadata": {
        "id": "kRyOuPHyWOAY"
      },
      "execution_count": null,
      "outputs": []
    },
    {
      "cell_type": "code",
      "source": [
        "import pandas as pd\n",
        "\n",
        "# Sample DataFrame\n",
        "data = {'Index': ['6.1', '6.1.1', '6.1.2', '6.1.3', '6.2'],\n",
        "        'Text': ['Text for 6.1', 'Text for 6.1.1', 'Text for 6.1.2', 'Text for 6.1.3', 'Text for 6.2']}\n",
        "\n",
        "df = pd.DataFrame(data)\n",
        "\n",
        "# Function to merge texts based on a common index prefix\n",
        "def merge_texts(df):\n",
        "    result = df.copy()\n",
        "    indexes_to_merge = set()\n",
        "\n",
        "    for index in df['Index']:\n",
        "        if index.count('.') > 1:  # Check if the index has more than one decimal point\n",
        "            common_prefix = '.'.join(index.split('.')[:-1])  # Get the common prefix (e.g., '6.1')\n",
        "            indexes_to_merge.add(common_prefix)\n",
        "\n",
        "    for common_prefix in indexes_to_merge:\n",
        "        texts_to_merge = df[df['Index'].str.startswith(common_prefix)]['Text'].tolist()\n",
        "        merged_text = ' '.join(texts_to_merge)\n",
        "        result = result[result['Index'] != common_prefix]\n",
        "        result = result.append({'Index': common_prefix, 'Text': merged_text}, ignore_index=True)\n",
        "\n",
        "    return result\n",
        "\n",
        "merged_df = merge_texts(df)\n",
        "print(merged_df)\n"
      ],
      "metadata": {
        "id": "SgGG8jWaYVSc"
      },
      "execution_count": null,
      "outputs": []
    },
    {
      "cell_type": "code",
      "source": [
        "import pandas as pd\n",
        "\n",
        "# Sample DataFrame\n",
        "data = {'Index': ['6.1', '6.1.1', '6.1.2', '6.1.3', '6.2'],\n",
        "        'Text': ['Text for 6.1', 'Text for 6.1.1', 'Text for 6.1.2', 'Text for 6.1.3', 'Text for 6.2']}\n",
        "\n",
        "df = pd.DataFrame(data)\n",
        "\n",
        "def merge_texts(group):\n",
        "    # Join the texts within the group with a space separator\n",
        "    return ' '.join(group)\n",
        "\n",
        "# Group by the common prefix of the 'Index' column and apply the merge_texts function\n",
        "merged_df = df.groupby(df['Index'].str.extract(r'^(\\d+\\.\\d+)')[0])['Text'].apply(merge_texts).reset_index()\n",
        "\n",
        "print(merged_df)\n"
      ],
      "metadata": {
        "id": "bca48rlTY_CX"
      },
      "execution_count": null,
      "outputs": []
    },
    {
      "cell_type": "code",
      "source": [
        "import re\n",
        "\n",
        "# Sample paragraph of text\n",
        "text = \"This is a sample text. SOP Title: XYZ This is more text.\"\n",
        "\n",
        "# Define a regular expression pattern to match \"SOP Title: XYZ\"\n",
        "pattern = r\"SOP Title: \\w+\"\n",
        "\n",
        "# Use re.search to find the first occurrence of the pattern\n",
        "match = re.search(pattern, text)\n",
        "\n",
        "if match:\n",
        "    sop_title = match.group()  # Extract the matched text\n",
        "    print(sop_title)\n",
        "else:\n",
        "    print(\"Pattern not found in the text\")\n"
      ],
      "metadata": {
        "id": "QbIcoRqWd4TR"
      },
      "execution_count": null,
      "outputs": []
    },
    {
      "cell_type": "code",
      "source": [
        "import re\n",
        "\n",
        "# Sample paragraph of text\n",
        "text = \"This is a sample text. SOP Title: XYZ SOP No: 123 This is more text.\"\n",
        "\n",
        "# Define a regular expression pattern to match the title between \"SOP Title\" and \"SOP No\"\n",
        "pattern = r\"SOP Title: (.*?) SOP No\"\n",
        "\n",
        "# Use re.search to find the pattern\n",
        "match = re.search(pattern, text)\n",
        "\n",
        "if match:\n",
        "    sop_title = match.group(1)  # Extract the text captured by the group\n",
        "    print(sop_title)\n",
        "else:\n",
        "    print(\"Pattern not found in the text\")\n"
      ],
      "metadata": {
        "id": "LsVm2JruehdK"
      },
      "execution_count": null,
      "outputs": []
    },
    {
      "cell_type": "code",
      "source": [
        "import docx2txt\n",
        "import textract\n",
        "\n",
        "def extract_text_between_markers(start_marker, end_marker, file_path):\n",
        "    try:\n",
        "        if file_path.lower().endswith(('.docx', '.doc')):\n",
        "            text = docx2txt.process(file_path)  # For .docx and .doc files\n",
        "        else:\n",
        "            text = textract.process(file_path)  # For other file types\n",
        "\n",
        "        start_index = text.find(start_marker)\n",
        "        end_index = text.find(end_marker)\n",
        "        if start_index != -1 and end_index != -1:\n",
        "            extracted_text = text[start_index + len(start_marker):end_index]\n",
        "            return extracted_text\n",
        "        else:\n",
        "            return \"Start and/or end markers not found in the text.\"\n",
        "    except FileNotFoundError:\n",
        "        return f\"File not found: {file_path}\"\n",
        "\n",
        "# Example usage\n",
        "start_marker = \"Start extraction here.\"\n",
        "end_marker = \"End extraction here.\"\n",
        "file_path = \"sample.docx\"  # Replace with your .doc or .docx file\n",
        "\n",
        "extracted_text = extract_text_between_markers(start_marker, end_marker, file_path)\n",
        "print(extracted_text)\n"
      ],
      "metadata": {
        "id": "hwdCAWXdAEG-"
      },
      "execution_count": null,
      "outputs": []
    }
  ]
}