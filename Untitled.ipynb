{
  "nbformat": 4,
  "nbformat_minor": 0,
  "metadata": {
    "colab": {
      "provenance": [],
      "authorship_tag": "ABX9TyNgHYhlIW8CfLNYHPKESInU",
      "include_colab_link": true
    },
    "kernelspec": {
      "name": "python3",
      "display_name": "Python 3"
    },
    "language_info": {
      "name": "python"
    }
  },
  "cells": [
    {
      "cell_type": "markdown",
      "metadata": {
        "id": "view-in-github",
        "colab_type": "text"
      },
      "source": [
        "<a href=\"https://colab.research.google.com/github/TarunNagdeve/Cats-Vs-Dogs/blob/master/Untitled.ipynb\" target=\"_parent\"><img src=\"https://colab.research.google.com/assets/colab-badge.svg\" alt=\"Open In Colab\"/></a>"
      ]
    },
    {
      "cell_type": "code",
      "execution_count": null,
      "metadata": {
        "id": "gcUYj42Dkrwl"
      },
      "outputs": [],
      "source": [
        "import os\n",
        "import subprocess\n",
        "\n",
        "# Path to the .doc or .docx file\n",
        "document_file = \"path/to/your/file.docx\"  # Replace with the actual path to your file\n",
        "\n",
        "# Output directory for the PDF file\n",
        "output_directory = \"path/to/output/directory\"  # Replace with the desired output directory\n",
        "\n",
        "# Ensure the output directory exists\n",
        "os.makedirs(output_directory, exist_ok=True)\n",
        "\n",
        "# Convert the document to PDF using unoconv\n",
        "conversion_command = f\"unoconv -f pdf -o {output_directory} {document_file}\"\n",
        "subprocess.run(conversion_command, shell=True)\n",
        "\n",
        "print(f\"Conversion complete. PDF file saved to {output_directory}\")\n"
      ]
    },
    {
      "cell_type": "code",
      "source": [
        "import os\n",
        "import subprocess\n",
        "\n",
        "def convert_doc_to_pdf(input_file, output_directory):\n",
        "    # Ensure the output directory exists\n",
        "    os.makedirs(output_directory, exist_ok=True)\n",
        "\n",
        "    # Determine the LibreOffice command based on the file type\n",
        "    if input_file.lower().endswith('.doc'):\n",
        "        libreoffice_command = \"libreoffice --headless --convert-to pdf\"\n",
        "    elif input_file.lower().endswith('.docx'):\n",
        "        libreoffice_command = \"libreoffice --headless --convert-to pdf:writer_pdf_Export\"\n",
        "    else:\n",
        "        raise ValueError(\"Unsupported file format. Only .doc and .docx files are supported.\")\n",
        "\n",
        "    # Perform the conversion using LibreOffice\n",
        "    conversion_command = f\"{libreoffice_command} --outdir {output_directory} {input_file}\"\n",
        "    subprocess.run(conversion_command, shell=True)\n",
        "\n",
        "    pdf_file = os.path.splitext(os.path.basename(input_file))[0] + \".pdf\"\n",
        "    pdf_path = os.path.join(output_directory, pdf_file)\n",
        "\n",
        "    return pdf_path\n",
        "\n",
        "# Example usage:\n",
        "input_file_path = \"path/to/your/file.docx\"\n",
        "output_directory_path = \"path/to/output/directory\"\n",
        "\n",
        "pdf_output_path = convert_doc_to_pdf(input_file_path, output_directory_path)\n",
        "print(f\"PDF file saved to: {pdf_output_path}\")\n"
      ],
      "metadata": {
        "id": "wATT5Rzom6L4"
      },
      "execution_count": null,
      "outputs": []
    }
  ]
}