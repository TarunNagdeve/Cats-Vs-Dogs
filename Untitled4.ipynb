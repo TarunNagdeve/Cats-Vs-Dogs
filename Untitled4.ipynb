{
  "nbformat": 4,
  "nbformat_minor": 0,
  "metadata": {
    "colab": {
      "provenance": [],
      "authorship_tag": "ABX9TyN2ylESXVoy25/Ngp99ACBn",
      "include_colab_link": true
    },
    "kernelspec": {
      "name": "python3",
      "display_name": "Python 3"
    },
    "language_info": {
      "name": "python"
    }
  },
  "cells": [
    {
      "cell_type": "markdown",
      "metadata": {
        "id": "view-in-github",
        "colab_type": "text"
      },
      "source": [
        "<a href=\"https://colab.research.google.com/github/TarunNagdeve/Cats-Vs-Dogs/blob/master/Untitled4.ipynb\" target=\"_parent\"><img src=\"https://colab.research.google.com/assets/colab-badge.svg\" alt=\"Open In Colab\"/></a>"
      ]
    },
    {
      "cell_type": "code",
      "execution_count": null,
      "metadata": {
        "id": "9XIOueIqYX-g"
      },
      "outputs": [],
      "source": [
        "import os\n",
        "from collections import defaultdict\n",
        "\n",
        "# Path to the top-level folder containing name folders\n",
        "root_folder = \"/path/to/top_level_folder\"  # Replace with the actual path\n",
        "\n",
        "# Dictionary to store the latest Word files\n",
        "latest_word_files = defaultdict(str)\n",
        "\n",
        "# Walk through the top-level folder and its subdirectories\n",
        "for root, dirs, files in os.walk(root_folder):\n",
        "    for subfolder in dirs:\n",
        "        subfolder_path = os.path.join(root, subfolder)\n",
        "\n",
        "        # Initialize variables to track the latest Word file and its creation time\n",
        "        latest_file_path = \"\"\n",
        "        latest_creation_time = 0\n",
        "\n",
        "        # Iterate through files within the subfolder\n",
        "        for file in os.listdir(subfolder_path):\n",
        "            file_path = os.path.join(subfolder_path, file)\n",
        "\n",
        "            # Check if it's a Word file (you can customize the file extension)\n",
        "            if file.lower().endswith('.docx'):\n",
        "                # Get the creation time of the file\n",
        "                file_creation_time = os.path.getctime(file_path)\n",
        "\n",
        "                # Check if it's the latest Word file\n",
        "                if file_creation_time > latest_creation_time:\n",
        "                    latest_creation_time = file_creation_time\n",
        "                    latest_file_path = file_path\n",
        "\n",
        "        # Store the path of the latest Word file in the dictionary\n",
        "        if latest_file_path:\n",
        "            latest_word_files[subfolder] = latest_file_path\n",
        "\n",
        "# Print the paths of the latest Word files\n",
        "for subfolder, latest_file_path in latest_word_files.items():\n",
        "    print(f\"Subfolder: {subfolder}, Latest Word File: {latest_file_path}\")\n"
      ]
    }
  ]
}