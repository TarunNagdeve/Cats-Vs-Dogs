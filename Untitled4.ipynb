{
  "nbformat": 4,
  "nbformat_minor": 0,
  "metadata": {
    "colab": {
      "provenance": [],
      "authorship_tag": "ABX9TyMC7qKuWleuTjCQlreMqvl2",
      "include_colab_link": true
    },
    "kernelspec": {
      "name": "python3",
      "display_name": "Python 3"
    },
    "language_info": {
      "name": "python"
    }
  },
  "cells": [
    {
      "cell_type": "markdown",
      "metadata": {
        "id": "view-in-github",
        "colab_type": "text"
      },
      "source": [
        "<a href=\"https://colab.research.google.com/github/TarunNagdeve/Cats-Vs-Dogs/blob/master/Untitled4.ipynb\" target=\"_parent\"><img src=\"https://colab.research.google.com/assets/colab-badge.svg\" alt=\"Open In Colab\"/></a>"
      ]
    },
    {
      "cell_type": "code",
      "execution_count": null,
      "metadata": {
        "id": "W76Tl0z5faz2"
      },
      "outputs": [],
      "source": [
        "import shutil\n",
        "import os\n",
        "\n",
        "# List of file locations\n",
        "file_locations = [\n",
        "    '/path/to/source/file1.txt',\n",
        "    '/path/to/source/file2.docx',\n",
        "    '/path/to/source/file3.pdf',\n",
        "    # Add more file locations as needed\n",
        "]\n",
        "\n",
        "# Destination directory where you want to copy the files\n",
        "destination_directory = '/path/to/destination_directory'\n",
        "\n",
        "# Make sure the destination directory exists\n",
        "os.makedirs(destination_directory, exist_ok=True)\n",
        "\n",
        "# Iterate through the file locations and copy them to the destination directory\n",
        "for file_location in file_locations:\n",
        "    # Extract the filename from the file location\n",
        "    file_name = os.path.basename(file_location)\n",
        "\n",
        "    # Create the destination path\n",
        "    destination_file = os.path.join(destination_directory, file_name)\n",
        "\n",
        "    # Copy the file\n",
        "    shutil.copy(file_location, destination_file)\n",
        "\n",
        "print(\"Files copied successfully.\")\n"
      ]
    }
  ]
}