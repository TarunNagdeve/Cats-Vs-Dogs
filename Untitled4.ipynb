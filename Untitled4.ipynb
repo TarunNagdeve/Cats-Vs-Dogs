{
  "nbformat": 4,
  "nbformat_minor": 0,
  "metadata": {
    "colab": {
      "provenance": [],
      "authorship_tag": "ABX9TyMotE7TWd1LS8XFf0HUklZD",
      "include_colab_link": true
    },
    "kernelspec": {
      "name": "python3",
      "display_name": "Python 3"
    },
    "language_info": {
      "name": "python"
    }
  },
  "cells": [
    {
      "cell_type": "markdown",
      "metadata": {
        "id": "view-in-github",
        "colab_type": "text"
      },
      "source": [
        "<a href=\"https://colab.research.google.com/github/TarunNagdeve/Cats-Vs-Dogs/blob/master/Untitled4.ipynb\" target=\"_parent\"><img src=\"https://colab.research.google.com/assets/colab-badge.svg\" alt=\"Open In Colab\"/></a>"
      ]
    },
    {
      "cell_type": "code",
      "execution_count": null,
      "metadata": {
        "id": "W76Tl0z5faz2"
      },
      "outputs": [],
      "source": [
        "import shutil\n",
        "import os\n",
        "\n",
        "# List of file locations\n",
        "file_locations = [\n",
        "    '/path/to/source/file1.txt',\n",
        "    '/path/to/source/file2.docx',\n",
        "    '/path/to/source/file3.pdf',\n",
        "    # Add more file locations as needed\n",
        "]\n",
        "\n",
        "# Destination directory where you want to copy the files\n",
        "destination_directory = '/path/to/destination_directory'\n",
        "\n",
        "# Make sure the destination directory exists\n",
        "os.makedirs(destination_directory, exist_ok=True)\n",
        "\n",
        "# Iterate through the file locations and copy them to the destination directory\n",
        "for file_location in file_locations:\n",
        "    # Extract the filename from the file location\n",
        "    file_name = os.path.basename(file_location)\n",
        "\n",
        "    # Create the destination path\n",
        "    destination_file = os.path.join(destination_directory, file_name)\n",
        "\n",
        "    # Copy the file\n",
        "    shutil.copy(file_location, destination_file)\n",
        "\n",
        "print(\"Files copied successfully.\")\n"
      ]
    },
    {
      "cell_type": "code",
      "source": [
        "def merge_first_subsections(indexes):\n",
        "    merged_indexes = []\n",
        "\n",
        "    i = 0\n",
        "    while i < len(indexes):\n",
        "        current_index = indexes[i]\n",
        "\n",
        "        if i + 1 < len(indexes) and indexes[i + 1].startswith(current_index + \".\"):\n",
        "            merged_index = current_index\n",
        "            i += 1\n",
        "        else:\n",
        "            merged_index = current_index\n",
        "\n",
        "        merged_indexes.append(merged_index)\n",
        "        i += 1\n",
        "\n",
        "    return merged_indexes\n",
        "\n",
        "# Example usage:\n",
        "indexes = [\"6.1\", \"6.2\", \"6.2.1\", \"6.2.2\", \"6.3\", \"6.3.1\", \"6.3.2\"]\n",
        "merged_result = merge_first_subsections(indexes)\n",
        "print(merged_result)\n"
      ],
      "metadata": {
        "id": "vDyS1jdozugb"
      },
      "execution_count": null,
      "outputs": []
    },
    {
      "cell_type": "code",
      "source": [
        "def process_indexes(indexes):\n",
        "    # Initialize a result list and a set to track seen elements\n",
        "    result = []\n",
        "    seen = set()\n",
        "\n",
        "    for index in indexes:\n",
        "        # Check if the index is already in the set\n",
        "        if index not in seen:\n",
        "            result.append(index)\n",
        "            seen.add(index)\n",
        "\n",
        "    # Sort the result list\n",
        "    result.sort()\n",
        "\n",
        "    return result\n",
        "\n",
        "# Example usage:\n",
        "indexes = [\"6.1\", \"6.2\", \"6.2.1\", \"6.2.2\", \"6.3\", \"6.3.1\", \"6.3.2\", \"6.2.1\", \"6.4\"]\n",
        "processed_indexes = process_indexes(indexes)\n",
        "print(processed_indexes)\n"
      ],
      "metadata": {
        "id": "FvlXu3QS8GD2"
      },
      "execution_count": null,
      "outputs": []
    },
    {
      "cell_type": "code",
      "source": [
        "def find_max_length_list(input_list):\n",
        "    max_list = input_list\n",
        "    max_length = len(input_list)\n",
        "\n",
        "    for item in input_list:\n",
        "        if isinstance(item, list):\n",
        "            if len(item) > max_length:\n",
        "                max_list = item\n",
        "                max_length = len(item)\n",
        "\n",
        "    return max_list\n",
        "\n",
        "# Example usage:\n",
        "input_list1 = [1, 2, [3, 4], 5]\n",
        "input_list2 = [1, 2, 3, 4, 5]\n",
        "input_list3 = [1, [2, 3, 4, 5], [6, 7, 8]]\n",
        "\n",
        "result1 = find_max_length_list(input_list1)\n",
        "result2 = find_max_length_list(input_list2)\n",
        "result3 = find_max_length_list(input_list3)\n",
        "\n",
        "print(\"Result 1:\", result1)\n",
        "print(\"Result 2:\", result2)\n",
        "print(\"Result 3:\", result3)\n"
      ],
      "metadata": {
        "id": "K-T5XNrPqZcR"
      },
      "execution_count": null,
      "outputs": []
    }
  ]
}